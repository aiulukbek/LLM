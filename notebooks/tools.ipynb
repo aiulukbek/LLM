{
 "cells": [
  {
   "cell_type": "code",
   "execution_count": 1,
   "metadata": {},
   "outputs": [
    {
     "data": {
      "text/plain": [
       "'/Users/ulukbek_attokurov/Documents/llm/LLM/notebooks'"
      ]
     },
     "execution_count": 1,
     "metadata": {},
     "output_type": "execute_result"
    }
   ],
   "source": [
    "pwd"
   ]
  },
  {
   "cell_type": "code",
   "execution_count": 2,
   "metadata": {},
   "outputs": [
    {
     "name": "stdout",
     "output_type": "stream",
     "text": [
      "/Users/ulukbek_attokurov/Documents/llm/LLM\n"
     ]
    }
   ],
   "source": [
    "cd .."
   ]
  },
  {
   "cell_type": "code",
   "execution_count": 4,
   "metadata": {},
   "outputs": [
    {
     "name": "stdout",
     "output_type": "stream",
     "text": [
      "name of the tool : list_files\n",
      "description of the tool: List the files in the directory. Input should be the full path to the directory.\n",
      "output of the tool: ['__pycache__', 'file_exists.py', 'list_files.py']\n"
     ]
    }
   ],
   "source": [
    "from tools.list_files import list_files_tool\n",
    "print(f\"name of the tool : {list_files_tool.name}\")\n",
    "print(f\"description of the tool: {list_files_tool.description}\")\n",
    "print(f\"output of the tool: {list_files_tool.func('tools')}\")"
   ]
  },
  {
   "cell_type": "code",
   "execution_count": 6,
   "metadata": {},
   "outputs": [
    {
     "name": "stdout",
     "output_type": "stream",
     "text": [
      "name of the tool: is_file_exists\n",
      "description of the tool: Useful for checking if a file exists. Input should be the full path to the file.\n",
      "output of the tool: True\n"
     ]
    }
   ],
   "source": [
    "from tools.file_exists import file_exists_tool \n",
    "\n",
    "print(f\"name of the tool: {file_exists_tool.name}\")\n",
    "print(f\"description of the tool: {file_exists_tool.description}\")\n",
    "print(f\"output of the tool: {file_exists_tool.func(\"tools/list_files.py\")}\")"
   ]
  },
  {
   "cell_type": "code",
   "execution_count": 4,
   "metadata": {},
   "outputs": [],
   "source": [
    "from tools.read_few_lines import few_lines_reader_tool"
   ]
  },
  {
   "cell_type": "code",
   "execution_count": 8,
   "metadata": {},
   "outputs": [
    {
     "name": "stdout",
     "output_type": "stream",
     "text": [
      "name of the tool: read_few_lines\n",
      "description of the tool: Few lines reader from .txt file.\n",
      "output of the tool: [b'  From fairest creatures we desire increase,\\n', b\"  That thereby beauty's rose might never die,\\n\"]\n"
     ]
    }
   ],
   "source": [
    "print(f\"name of the tool: {few_lines_reader_tool.name}\")\n",
    "print(f\"description of the tool: {few_lines_reader_tool.description}\")\n",
    "print(f\"output of the tool: {few_lines_reader_tool.func(2)}\")"
   ]
  },
  {
   "cell_type": "code",
   "execution_count": 11,
   "metadata": {},
   "outputs": [
    {
     "name": "stdout",
     "output_type": "stream",
     "text": [
      "name of the tool: get_current_date\n",
      "description of the tool: Useful for formatting current date. The date format is as follows: Year - Month - Day.\n",
      "output of the tool: 2025-04-08\n"
     ]
    }
   ],
   "source": [
    "from tools.format_date import current_date_tool\n",
    "print(f\"name of the tool: {current_date_tool.name}\")\n",
    "print(f\"description of the tool: {current_date_tool.description}\")\n",
    "print(f\"output of the tool: {current_date_tool.func()}\")"
   ]
  },
  {
   "cell_type": "code",
   "execution_count": 3,
   "metadata": {},
   "outputs": [
    {
     "name": "stdout",
     "output_type": "stream",
     "text": [
      "name of the tool: add_days_to_date\n",
      "description of the tool: Useful to add days to current date.\n",
      "output of the tool: 2025-04-18\n"
     ]
    }
   ],
   "source": [
    "from tools.add_days import day_addition_tool\n",
    "\n",
    "print(f\"name of the tool: {day_addition_tool.name}\")\n",
    "print(f\"description of the tool: {day_addition_tool.description}\")\n",
    "print(f\"output of the tool: {day_addition_tool.func(10)}\")"
   ]
  },
  {
   "cell_type": "code",
   "execution_count": null,
   "metadata": {},
   "outputs": [],
   "source": []
  }
 ],
 "metadata": {
  "kernelspec": {
   "display_name": "llm",
   "language": "python",
   "name": "python3"
  },
  "language_info": {
   "codemirror_mode": {
    "name": "ipython",
    "version": 3
   },
   "file_extension": ".py",
   "mimetype": "text/x-python",
   "name": "python",
   "nbconvert_exporter": "python",
   "pygments_lexer": "ipython3",
   "version": "3.12.9"
  }
 },
 "nbformat": 4,
 "nbformat_minor": 2
}
